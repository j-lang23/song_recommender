{
 "cells": [
  {
   "cell_type": "code",
   "execution_count": 17,
   "id": "28a9ffdb",
   "metadata": {},
   "outputs": [],
   "source": [
    "import spotipy\n",
    "import json\n",
    "from spotipy.oauth2 import SpotifyClientCredentials\n",
    "import pandas as pd\n",
    "import requests\n",
    "import time\n",
    "import pickle\n",
    "from config import *\n",
    "from prettytable import PrettyTable\n",
    "\n",
    "# Set up Spotify API client\n",
    "\n",
    "auth_manager = SpotifyClientCredentials(client_id=client_id,\n",
    "                                         client_secret=client_secret)\n",
    "sp = spotipy.Spotify(auth_manager=auth_manager)"
   ]
  },
  {
   "cell_type": "code",
   "execution_count": 2,
   "id": "cf2e5d5a",
   "metadata": {},
   "outputs": [],
   "source": [
    "songs_df = pd.read_csv(\"songs1.csv\")"
   ]
  },
  {
   "cell_type": "code",
   "execution_count": 3,
   "id": "c6ce79e2",
   "metadata": {
    "scrolled": true
   },
   "outputs": [],
   "source": [
    "# Function to get song features from Spotify API\n",
    "def get_song_features(title, artist):\n",
    "    \"\"\"\n",
    "    Gets the audio features of a song from the Spotify API\n",
    "    given its title and artist name.\n",
    "    \"\"\"\n",
    "    results = sp.search(q=f\"{title} artist:{artist}\", type=\"track\", limit=1)\n",
    "    if results[\"tracks\"][\"total\"] > 0:\n",
    "        track_id = results[\"tracks\"][\"items\"][0][\"id\"]\n",
    "        track_features = sp.audio_features([track_id])[0]\n",
    "        return track_features\n",
    "    else:\n",
    "        return None\n",
    "\n"
   ]
  },
  {
   "cell_type": "code",
   "execution_count": 14,
   "id": "37a1fba5",
   "metadata": {},
   "outputs": [],
   "source": [
    "def run_recommender():\n",
    "    title = input (\"Enter song: \")\n",
    "    artist = input(\"Enter artist: \")\n",
    " \n",
    "    audio_feat = get_song_features(title, artist)\n",
    "        \n",
    "    d = {\n",
    "        \"danceability\" : [audio_feat[\"danceability\"]],\n",
    "        \"energy\" : [audio_feat[\"energy\"]],\n",
    "        \"loudness\": [audio_feat[\"loudness\"]],\n",
    "        \"speechiness\" : [audio_feat[\"speechiness\"]],\n",
    "        \"acousticness\" : [audio_feat[\"acousticness\"]],\n",
    "        \"instrumentalness\":  [audio_feat[\"instrumentalness\"]],\n",
    "        \"liveness\" : [audio_feat[\"liveness\"]],\n",
    "        \"valence\"  : [audio_feat[\"valence\"]],\n",
    "        \"tempo\" : [audio_feat[\"tempo\"]],\n",
    "        \"key\" : [audio_feat[\"key\"]]\n",
    "\n",
    "    }\n",
    "    \n",
    "    with open(\"scaler.pickle\", \"rb\") as f:\n",
    "        stdScaler = pickle.load(f)\n",
    "        \n",
    "    feat_scaled = stdScaler.transform(pd.DataFrame(d))\n",
    "    feat_scaled = pd.DataFrame(feat_scaled, columns = d.keys())\n",
    "\n",
    "    with open(\"kmeans_7.pickle\", \"rb\") as f:\n",
    "        kmeans = pickle.load(f)\n",
    "        \n",
    "    cluster = kmeans.predict(feat_scaled)[0]\n",
    "    print(f\"Cluster {cluster}\")\n",
    "    \n",
    "    res = songs_df[(songs_df[\"artists\"] == artist) &\\\n",
    "                   (songs_df[\"title\"] == title)]\n",
    "    if not res.empty:\n",
    "        # Title/Artist already exists in our songDB\n",
    "        hot_or_not = res[\"dataset\"]\n",
    "        c = res[\"cluster2\"]\n",
    "        \n",
    "        rec_song = songs_df[(songs_df[\"dataset\"] == hot_or_not) & \\\n",
    "                 (songs_df[\"cluster2\"] == c)].sample()[[\"title\", \"artists\", \"open_url\"]]\n",
    "    else:\n",
    "        rec_song = songs_df[(songs_df[\"cluster2\"] == cluster) & \\\n",
    "                 (songs_df[\"dataset\"] == \"not_hot_songs\")].sample()[[\"title\", \"artists\", \"open_url\"]]\n",
    "        \n",
    "    print(\"Title: {}\\nArtist: {}\\nLink: {}\".format(rec_song['title'].values[0], rec_song['artists'].values[0], rec_song['open_url'].values[0]))\n"
   ]
  },
  {
   "cell_type": "code",
   "execution_count": 22,
   "id": "4b2d0967",
   "metadata": {},
   "outputs": [],
   "source": [
    "def more_recommendations():\n",
    "    table = PrettyTable()\n",
    "    while True:\n",
    "        run_recommender()\n",
    "    \n",
    "        quit = input(\"Wanne quit? (y/n) \")\n",
    "        if quit == \"y\":\n",
    "            break\n",
    "\n",
    "    print(\"Good bye!\")"
   ]
  },
  {
   "cell_type": "code",
   "execution_count": 23,
   "id": "c554de02",
   "metadata": {},
   "outputs": [
    {
     "name": "stdout",
     "output_type": "stream",
     "text": [
      "Enter song: kill bill\n",
      "Enter artist: \n"
     ]
    },
    {
     "name": "stderr",
     "output_type": "stream",
     "text": [
      "C:\\Users\\celia\\anaconda3\\lib\\site-packages\\sklearn\\base.py:443: UserWarning: X has feature names, but KMeans was fitted without feature names\n",
      "  warnings.warn(\n"
     ]
    },
    {
     "name": "stdout",
     "output_type": "stream",
     "text": [
      "Cluster 3\n",
      "Title: informa\n",
      "Artist: Elephant Man\n",
      "Link: https://open.spotify.com/track/46l7fOJggsNqrNPJeFk0og\n",
      "Wanne quit? (y/n) y\n",
      "Good bye!\n"
     ]
    }
   ],
   "source": [
    "more_recommendations()"
   ]
  }
 ],
 "metadata": {
  "kernelspec": {
   "display_name": "Python 3 (ipykernel)",
   "language": "python",
   "name": "python3"
  },
  "language_info": {
   "codemirror_mode": {
    "name": "ipython",
    "version": 3
   },
   "file_extension": ".py",
   "mimetype": "text/x-python",
   "name": "python",
   "nbconvert_exporter": "python",
   "pygments_lexer": "ipython3",
   "version": "3.9.13"
  }
 },
 "nbformat": 4,
 "nbformat_minor": 5
}
